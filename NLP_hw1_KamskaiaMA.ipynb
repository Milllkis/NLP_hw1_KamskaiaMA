{
 "cells": [
  {
   "cell_type": "markdown",
   "metadata": {},
   "source": [
    "## Домашняя работа № 1\n",
    "\n",
    "Работу выполнила Камская Милена, БКЛ-211"
   ]
  },
  {
   "cell_type": "markdown",
   "metadata": {},
   "source": [
    "Для начала сделаем все нужные импорты"
   ]
  },
  {
   "cell_type": "code",
   "execution_count": 1,
   "metadata": {},
   "outputs": [
    {
     "name": "stderr",
     "output_type": "stream",
     "text": [
      "[nltk_data] Downloading package stopwords to\n",
      "[nltk_data]     C:\\Users\\Имя\\AppData\\Roaming\\nltk_data...\n",
      "[nltk_data]   Package stopwords is already up-to-date!\n"
     ]
    }
   ],
   "source": [
    "import requests\n",
    "from bs4 import BeautifulSoup\n",
    "from collections import Counter\n",
    "import csv\n",
    "import pandas as pd\n",
    "import re\n",
    "import pymorphy2\n",
    "import nltk\n",
    "from nltk.corpus import stopwords\n",
    "nltk.download('stopwords')\n",
    "from nltk.tokenize import word_tokenize\n",
    "from sklearn.metrics import accuracy_score"
   ]
  },
  {
   "cell_type": "markdown",
   "metadata": {},
   "source": [
    "Пропишем функцию collect_reviews, которая на вход получает номер страницы и словарь, в который мы хотим вписать данные. На выходе данные в нашем словаре будут храниться так: ключом будет строка с текстом отзыва, а значением будет тональность."
   ]
  },
  {
   "cell_type": "code",
   "execution_count": 2,
   "metadata": {},
   "outputs": [],
   "source": [
    "def collect_reviews(page_number, dictionary):\n",
    "    # скачиваем\n",
    "    url = f'https://teatrow.ru/msk/moskovskij-dvorec-molodezhi/page,1,{page_number},16857-shahmaty.html'\n",
    "    response = requests.get(url)\n",
    "    html_content = response.content\n",
    "    soup = BeautifulSoup(html_content, 'html.parser')\n",
    "    \n",
    "    # находим все отзывы на странице и обрабатываем\n",
    "    for review in soup.find_all('div', {'class': 'element-item 1'}):\n",
    "        review_text = review.find('div', {'class': 'text mytext'}).text\n",
    "        review_rating = int(review.find('meta', {'itemprop': 'ratingValue'})['content'])\n",
    "        if review_rating == 4 or review_rating == 5:\n",
    "            dictionary[review_text] = 'Positive'\n",
    "        if review_rating == 1 or review_rating == 2 or review_rating == 3:\n",
    "            dictionary[review_text] = 'Negative'\n",
    "      \n",
    "    return dictionary"
   ]
  },
  {
   "cell_type": "markdown",
   "metadata": {},
   "source": [
    "Во-первых, я брала отзывы только на один определенный спектакль, чтобы не смешивать отзывы и уже повысить точность своей будущей модели. Грубо говоря, не мешала отзывы на кроссовки с отзывами на ноутбуки\n",
    "\n",
    "Во-вторых, я ввела свой критерий измерения тональности. Если у отзывы 4 или 5 звезд, то я считала отзыв положительным, потому что есть некоторые гениальные диванные критики, которые 5 никому и никогда не ставят, а в отзыве пишут, что все понравилось. Мне важнее текст отзыва, чем звездочки. Отрицательными отзывами я считала отзывы с 1ой, 2мя или 3мя звездами."
   ]
  },
  {
   "cell_type": "code",
   "execution_count": 3,
   "metadata": {},
   "outputs": [],
   "source": [
    "dictionary_of_reviews = {}\n",
    "for i in range(1, 101):\n",
    "    collect_reviews(i, dictionary_of_reviews)"
   ]
  },
  {
   "cell_type": "markdown",
   "metadata": {},
   "source": [
    "После того, как мы запустили функцию, мы смотрим на то, сколько у нас положительных и отрицательных отзывов с помощью Counter"
   ]
  },
  {
   "cell_type": "code",
   "execution_count": 4,
   "metadata": {},
   "outputs": [
    {
     "data": {
      "text/plain": [
       "Counter({'Negative': 150, 'Positive': 847})"
      ]
     },
     "execution_count": 4,
     "metadata": {},
     "output_type": "execute_result"
    }
   ],
   "source": [
    "c = Counter(dictionary_of_reviews.values())\n",
    "c"
   ]
  },
  {
   "cell_type": "markdown",
   "metadata": {},
   "source": [
    "Видим огромную разницу, но не отчаиваемся. Сортируем словарь по значению так, что первыми будут негативне отзывы, а после блока негатива будет блок позитива! И обрезаем, оставив 300 отзывов (150 отрицательных и 150 положительных). Так мы и получили информацию, которая позже станет обучающей выборкой"
   ]
  },
  {
   "cell_type": "code",
   "execution_count": 5,
   "metadata": {},
   "outputs": [],
   "source": [
    "s = sorted(dictionary_of_reviews.items(), key=lambda item: item[1])\n",
    "s = s[:300]"
   ]
  },
  {
   "cell_type": "markdown",
   "metadata": {},
   "source": [
    "Теперь все сохраняем в csv, потому что так хранить удобнее)"
   ]
  },
  {
   "cell_type": "code",
   "execution_count": 6,
   "metadata": {},
   "outputs": [],
   "source": [
    "def save(info):\n",
    "    with open('reviews_train.csv','w', encoding='UTF-8') as csvfile:\n",
    "        writer = csv.writer(csvfile, delimiter=',')\n",
    "        writer.writerow(['Text','Sentiment'])\n",
    "\n",
    "        for i in range(0,300):\n",
    "            writer.writerow([info[i][0], info[i][1]])\n",
    "\n",
    "save(s)"
   ]
  },
  {
   "cell_type": "markdown",
   "metadata": {},
   "source": [
    "Теперь нехитрым способом получаем будущую тестовую выборку и тоже сохраняем ее в csv"
   ]
  },
  {
   "cell_type": "code",
   "execution_count": 7,
   "metadata": {},
   "outputs": [],
   "source": [
    "dictionary_of_reviews_test = {}\n",
    "collect_reviews(107, dictionary_of_reviews_test) #107 страница потому что тут есть и положительный и отрицательный отзывы и их ровно 10)\n",
    "n = sorted(dictionary_of_reviews_test.items(), key=lambda item: item[1])\n",
    "\n",
    "with open('reviews_test.csv','w', encoding='UTF-8') as csvfile:\n",
    "        writer = csv.writer(csvfile, delimiter=',')\n",
    "        writer.writerow(['Text','Sentiment'])\n",
    "        for i in range(0,10):\n",
    "              writer.writerow([n[i][0], n[i][1]])"
   ]
  },
  {
   "cell_type": "markdown",
   "metadata": {},
   "source": [
    "Переходим ко второму пункту домашнего задания. Я прописала все функциями и затем просто их применю к данным"
   ]
  },
  {
   "cell_type": "code",
   "execution_count": 8,
   "metadata": {},
   "outputs": [],
   "source": [
    "def convert_lowercase(text): #приводим все к нижнему регистру\n",
    "    text = text.lower()\n",
    "    return text\n",
    "\n",
    "def remove_punc(text): #убираем пунктуацию\n",
    "    return re.sub(r'[^\\w\\s]', ' ', text)\n",
    "\n",
    "def remove_stopwords(text):\n",
    "    new_list = []\n",
    "    text = re.sub(r'[0-9]+', '', text) #убираем числа\n",
    "    words = word_tokenize(text)\n",
    "    stopwrds = stopwords.words('russian')\n",
    "    for word in words:\n",
    "        if word not in stopwrds:\n",
    "            new_list.append(word)\n",
    "    return ' '.join(new_list)\n",
    "\n",
    "morph = pymorphy2.MorphAnalyzer()\n",
    "\n",
    "def f_form(text): #приводим все слова к начальной форме\n",
    "    lst = []\n",
    "    for word in text.split(' '):\n",
    "        w = morph.parse(word)[0]\n",
    "        wrd = w.normal_form\n",
    "        lst.append(wrd)\n",
    "    return ' '.join(lst)\n",
    "            "
   ]
  },
  {
   "cell_type": "markdown",
   "metadata": {},
   "source": [
    "Прописываем функцию, которая на вход получает файл, а на выходе у нас полностью обработанный датасет в csv"
   ]
  },
  {
   "cell_type": "code",
   "execution_count": 9,
   "metadata": {},
   "outputs": [],
   "source": [
    "def preparation(fname):\n",
    "    data = pd.read_csv(fname,sep=',', encoding='UTF-8')\n",
    "    data.columns = data.columns.str.replace('\"', '')\n",
    "    data['Text'] = data['Text'].astype(str) \n",
    "    data['Text'] = data['Text'].apply(convert_lowercase)\n",
    "    data['Text'] = data['Text'].apply(remove_punc)\n",
    "    data['Text'] = data['Text'].apply(remove_stopwords)\n",
    "    data['Text'] = data['Text'].apply(f_form)\n",
    "    data.to_csv(fname, index=False)"
   ]
  },
  {
   "cell_type": "code",
   "execution_count": 10,
   "metadata": {},
   "outputs": [],
   "source": [
    "preparation('reviews_train.csv')"
   ]
  },
  {
   "cell_type": "markdown",
   "metadata": {},
   "source": [
    "Теперь создадим 2 множества: в одном будут слова, которые встречаются только в положительных отзывах, а в другом - встречающиеся только в отрицательных."
   ]
  },
  {
   "cell_type": "code",
   "execution_count": 11,
   "metadata": {},
   "outputs": [],
   "source": [
    "data = pd.read_csv('reviews_train.csv',sep=',', encoding='UTF-8')\n",
    "\n",
    "text_positive = data[data['Sentiment'] == 'Positive']['Text']\n",
    "text_negative = data[data['Sentiment'] == 'Negative']['Text']"
   ]
  },
  {
   "cell_type": "code",
   "execution_count": 12,
   "metadata": {},
   "outputs": [],
   "source": [
    "def dict_for_set(text): #функция для словаря отдельная, потому что он нам потом понадобится (спойлер)\n",
    "    all = []\n",
    "    for line in text:\n",
    "        w = line.split(' ')\n",
    "        for word in w:\n",
    "            all.append(word)\n",
    "\n",
    "    d = {}\n",
    "    for item in set(all):\n",
    "        num = all.count(item)\n",
    "        d[item] = num\n",
    "\n",
    "    pure_d = {}\n",
    "    for k, v in d.items():\n",
    "        if v > 10: #здесь те слова, которые встречаются менее 11 раз я убираю, потому что они запутают модель\n",
    "            pure_d[k] = v\n",
    "\n",
    "    return pure_d\n",
    "\n",
    "def set_of_words(text):\n",
    "    d = dict_for_set(text)\n",
    "    \n",
    "    return set(d.keys())"
   ]
  },
  {
   "cell_type": "markdown",
   "metadata": {},
   "source": [
    "А вот и эти множества!"
   ]
  },
  {
   "cell_type": "code",
   "execution_count": 13,
   "metadata": {},
   "outputs": [],
   "source": [
    "s_pos = set_of_words(text_positive)\n",
    "s_neg = set_of_words(text_negative)"
   ]
  },
  {
   "cell_type": "markdown",
   "metadata": {},
   "source": [
    "Теперь создадим функцию, которая будет определять, положительный ли отзыв или отрицательный в зависимости от того, какие слова встретились в нём"
   ]
  },
  {
   "cell_type": "code",
   "execution_count": 14,
   "metadata": {},
   "outputs": [],
   "source": [
    "freq_lists = {}\n",
    "freq_lists['Positive'] = dict_for_set(text_positive)\n",
    "freq_lists['Negative'] = dict_for_set(text_negative)"
   ]
  },
  {
   "cell_type": "markdown",
   "metadata": {},
   "source": [
    "А вот и сама функция. Она просто считает совпадения)"
   ]
  },
  {
   "cell_type": "code",
   "execution_count": 15,
   "metadata": {},
   "outputs": [],
   "source": [
    "def simple_sent_detect(freq_lists, text):\n",
    "    counts = Counter()\n",
    "    for sent, freq_list in freq_lists.items():\n",
    "        freq_list = Counter(freq_list)\n",
    "        for word in nltk.word_tokenize(text):\n",
    "            counts[sent] += int(freq_list[word] > 0)\n",
    "    return counts.most_common()"
   ]
  },
  {
   "cell_type": "markdown",
   "metadata": {},
   "source": [
    "Теперь нужно проверить, насколько у нас точный результат. Обработаем тестовые данные и представим их в виде словаря для того, чтобы было в дальнейшем удобнее к ним обращаться"
   ]
  },
  {
   "cell_type": "code",
   "execution_count": 16,
   "metadata": {},
   "outputs": [],
   "source": [
    "preparation('reviews_test.csv')"
   ]
  },
  {
   "cell_type": "code",
   "execution_count": 17,
   "metadata": {},
   "outputs": [],
   "source": [
    "data_test = open('reviews_test.csv', encoding='UTF-8')"
   ]
  },
  {
   "cell_type": "code",
   "execution_count": 18,
   "metadata": {},
   "outputs": [
    {
     "data": {
      "text/plain": [
       "{'понравиться постановка шумно внутренний стержень ссср суметь артист передать глубина душа': 'Negative',\n",
       " 'удивить восторженный отзыв мюзикл собственно купиться понравиться муж сюжет очень политизировать сценарий толком прописать понятный смысл логика поступок герой откровенный дыра сценарий поэтому главный герой вызывать симпатия страдание выглядеть место комично напоминать индийский кино вообще очень затянутый мюзикл практически речь один ария бесконечно один очень хватать проникновенность игра актёр один кривляние главный героиня бесконечно хлопотать лицо тело бегать сцена создавать впечатление нервный экзальтированный дама который постоянно орать один ария запасть душа запомниться очень слабый перевод текст песня просто набор слово рифма петь слово просто говорить понравиться клишировать представление ссср советский народ типично иностранный взгляд шапка мишка балалайка кгб человек серый неуклюжий костюм вытянутый струнка выглядеть жалко фон американец пить водка стакан называть друг друг товарищ смешно главный герой показать слабак предатель свой страна повториться роль прописать очень слабо грубый мазок характер видный главный пара вызывать симпатия сочувствие последний ария выглядеть смешно затянутый мдм ужасный звук половина слово разобрать второй акт актёр откровенно орать микрофон звук выкрутить максимум общий слабо очень слабо осадка мюзикл неприятный молодёжь прийти посмотреть такой клише думать жизнь ссср это нужно любить жанр мюзикл смотреть мюзикл идти понравиться маленький такой разочарование вокруг сидеть человек выражать недоумение многие смеяться страдание герой два пара уйти антракт муж откров': 'Negative',\n",
       " 'великолепный мюзикл это чувствоваться протяжение представление стоить титанический труд причастный костюм мимика герой музыка вестибюль театр последний нота заключительный песня сцена поразительный внимание деталь полный отдача реалистичность воспроизведение настоящий исторический шахматный партия сцена каков реальный исторический кадр декорация актёр великолепный александр казьмин анастасия стоцкий просто выше всякий похвала отметить крутой ансамбль узнавать артист тот евгений кириллина константин барышник который периодически давать собственный камерный концерт человек который давно пора вставать первый линия сожаление один такой слово который описать передать ощущение мюзикл гамма приобрести чувство это пережить собственный опыт весь желать': 'Positive',\n",
       " 'шахматы это очень красивый захватывать история пожалуй всё любовь вражда внутренний борьба действие целое всё интересно здорово обыграть молчаливый шахматный матч первый акт смотреть занимательный это показатель': 'Positive',\n",
       " 'редкий история простой пожертвовать себя игра некоторый игра это весь жизнь сам история показать мюзикл безусловно интересный настоящий удовольствие наблюдать зрительный зал музыка песня отличный многоликий сценарий мастерски включать очень многое напряжённость время холодный война накал любовный спортивный страсть очень хотеться также отметить костюм декорация прекрасно передавать дух время х год второй акт особенно запомниться яркий костюм красочный декорация бангкок причём сцена протяжение спектакль радовать грандиозный оригинальный декорация хотя часто видеть оркестр потолок замечательный подобрать актёрский состав александр суханов анатолий сергиевский александр казьмин фредди трампер анастасия стоцкий флоренса анна гученкова светлана александр суханов идеально подходить роль советский шахматист дополнение хотеться просто кричать голос просто шикарный мюзикл идти однозначно стоить это многое один интересный цеплять постановка год': 'Positive',\n",
       " 'сказать мюзикл понравиться значит сказать просто вау невероятно красивый костюм сногсшибательный декорация оркестр выглядеть впечатляющий отвлекать внимание весь актёрский состав прекрасный хотеться отметить работа александр бобров исполнять роль фредди трампер анна гученкова исполнять роль светлана огромный спасибо тот эмоция который подарить мюзикл зрительный зал выходить словно американский горка смешно больно снова больно больно прошлый немного другой очень изощрённый горка получиться ладный спасибо история который оставлять равнодушный настоящий живой персонаж каждый который сопереживать весь душа': 'Positive',\n",
       " 'любитель оставлять отзыв спектакль внимание оставить мочь первый ожидать он такой музыка давно такой мурашка второй это очень красивый спектакль никакой фото хороший передать третий анастасия стоцкий просто вывернуть душа наизнанку знать человек играть петь браво это шедевр отдельный похвала партия судья это просто великолепно': 'Positive',\n",
       " 'очень красивый картинка крутой масштабный декорация очень качественно музыка очень интересный разнообразный сначала показаться слишком запоминаться пара день обнаружить напевать отрывок мюзикл голова засесть плотненький сам история сразу тронуть актёр отыгрывать удовольствие увидеть ещё думать проникнуться александр казьмин шикарный играть божественно глаз оторвать настолько включаться роль талант невероятный голос вживую звучать очень впечатляющий спасибо весь причастный получить эмоция впечатление': 'Positive',\n",
       " 'великолепно шикарный спектакль мощный вокал сильный игра блестящий хореография яркий сценография потрясать музыка микс стиль качественный исполнение восторг браво рекомендовать': 'Positive',\n",
       " 'очень рада поставить мюзикл огромный благодарность дмитрий богачёв продюссерский работа шикарный постановка потрясать музыка хит хит давно добалить плейлист оркестр прекрасный артист прекрасный гимн прослезиться очень пронзительно спеть кирилл гордеев алексей иващенко очень хороший сделать перевод текст меткий актуальный место дрожь актуальный наш время весь рекомендовать однозначно минус мочь отметить сюжетный мелочь который оригинальный постановка выкинуть видно команда стараться выжать сюжет наверно российский постановка план сюжет самый хороший': 'Positive'}"
      ]
     },
     "execution_count": 18,
     "metadata": {},
     "output_type": "execute_result"
    }
   ],
   "source": [
    "test_dictionary = {}\n",
    "\n",
    "for line in csv.reader(data_test):\n",
    "    test_dictionary[line[0]] = line[1]\n",
    "\n",
    "test_dictionary.pop('Text')\n",
    "test_dictionary"
   ]
  },
  {
   "cell_type": "markdown",
   "metadata": {},
   "source": [
    "Выводим что нам дала модель. "
   ]
  },
  {
   "cell_type": "code",
   "execution_count": 19,
   "metadata": {},
   "outputs": [
    {
     "name": "stdout",
     "output_type": "stream",
     "text": [
      "Positive\n",
      "Negative\n",
      "Negative\n",
      "Negative\n",
      "Positive\n",
      "Positive\n",
      "Negative\n",
      "Positive\n",
      "Positive\n",
      "Positive\n"
     ]
    }
   ],
   "source": [
    "for line, sent in test_dictionary.items():\n",
    "    print(simple_sent_detect(freq_lists, line)[0][0])"
   ]
  },
  {
   "cell_type": "markdown",
   "metadata": {},
   "source": [
    "Круто, что работает, но как точно оно работает? Сейчас проверим!"
   ]
  },
  {
   "cell_type": "markdown",
   "metadata": {},
   "source": [
    "Функция проверки на точность по сути просто сравнивает 2 списка (полученных результатов и ожиданий) при помощи sklearn"
   ]
  },
  {
   "cell_type": "code",
   "execution_count": 20,
   "metadata": {},
   "outputs": [],
   "source": [
    "def test_simple_sent_detect(freq_lists, dictionary):\n",
    "    results = []  # сюда будем писать результаты\n",
    "    gold = []     # сюда будем писать исходную тональность\n",
    "    for line, sent in test_dictionary.items():\n",
    "        predicted_lang = simple_sent_detect(freq_lists, line)[0][0]\n",
    "        results.append(predicted_lang)\n",
    "        gold.append(sent)\n",
    "    print(\"RESULTS:\")\n",
    "    print(\"Accuracy: %.4f\" % accuracy_score(results, gold))"
   ]
  },
  {
   "cell_type": "code",
   "execution_count": 21,
   "metadata": {},
   "outputs": [
    {
     "name": "stdout",
     "output_type": "stream",
     "text": [
      "RESULTS:\n",
      "Accuracy: 0.6000\n"
     ]
    }
   ],
   "source": [
    "test_simple_sent_detect(freq_lists, test_dictionary)"
   ]
  },
  {
   "cell_type": "markdown",
   "metadata": {},
   "source": [
    "Хм, как-то грустнено видеть 0.6, но модель достаточно простая. Все же неплохой результат"
   ]
  },
  {
   "cell_type": "markdown",
   "metadata": {},
   "source": [
    "Теперь попробуем его улучшить"
   ]
  },
  {
   "cell_type": "markdown",
   "metadata": {},
   "source": [
    "### Первое улучшение: умная фильтрация отзывов\n",
    "\n",
    "Отзывы с тремя звездами вызывают сомнение, давайте посмотрим на них внимательнее"
   ]
  },
  {
   "cell_type": "code",
   "execution_count": 22,
   "metadata": {},
   "outputs": [],
   "source": [
    "def collect_q_reviews(page_number, dictionary):\n",
    "    # скачиваем\n",
    "    url = f'https://teatrow.ru/msk/moskovskij-dvorec-molodezhi/page,1,{page_number},16857-shahmaty.html'\n",
    "    response = requests.get(url)\n",
    "    html_content = response.content\n",
    "    soup = BeautifulSoup(html_content, 'html.parser')\n",
    "    \n",
    "    # находим все отзывы на странице и обрабатываем\n",
    "    for review in soup.find_all('div', {'class': 'element-item 1'}):\n",
    "        review_text = review.find('div', {'class': 'text mytext'}).text\n",
    "        review_rating = int(review.find('meta', {'itemprop': 'ratingValue'})['content'])\n",
    "        if review_rating == 3:\n",
    "            dictionary[review_text] = '???'\n",
    "      \n",
    "    return dictionary"
   ]
  },
  {
   "cell_type": "code",
   "execution_count": 23,
   "metadata": {},
   "outputs": [
    {
     "data": {
      "text/plain": [
       "{'Мюзикл не вызвал никаких эмоций. Относительно постановок, которые играются в культурной столице нашей страны, этот мюзикл не показался завораживающим. Думаю, мое мнение схоже с другими зрителями. Не было бурных оваций, все спешили поскорее покинуть зал. 3- / 5.': '???',\n",
       " 'Искренне не понимаю, почему столько восторженных отзывов, каждому свое, конечно. Неплохая постановка, но, по моему мнению, в Москве есть гораздо более зрелищные мюзиклы и оперетты. По десятибальной шкале поставила бы 7': '???',\n",
       " 'Разочарована! Совсем не зацепил, не запомнился! Вроде и артисты стараются, выкладываются, но … не случилось': '???',\n",
       " 'К исполнителям и оркестру претензий нет - всё на высшем уровне. Приятно удивила Анастасия Стоцкая - не ожидал. Но музыка не зацепила, а к концу второго акта начал откровенно уставать. Особо отмечу Александра Маракулина - его партии это нечто.': '???',\n",
       " 'Немного не хватило романтики... в целом интересная история': '???',\n",
       " 'Нормально, но в рекомендацию не возьму. В МДМ очень плохой звук.': '???',\n",
       " 'Хочу написать несколько слов об этом спектакле. 1. В целом исполнение и постановка понравились. музыкально, эмоционально. Второй раз не пошел бы. Да и первый раз - тоже )) 2. Отвратительный звук. Такое впечатление, что в качестве звукорежиссера и прочих музыкальных оформителей привлекли людей весьма средней квалификации. Низкие частоты задавлены напрочь. Звук \"смотрит\" внутрь сцены, поэтому при повышении громкости тексты не разобрать, да и дребезжать начинает. Коротко : тухляк 3. Сюжет. Этому спектаклю более 35 лет. Классический антисоветский пропагандистский сюжет, в котором \"Советские злодеи\" превратили шахматы в арену политической борьбы. Убежден, что подобным спектаклям не место на российский сценах. Молодые поколения \"хавают\" такие пропагандистские сюжеты за чистую монету. Угадывается компиляция событий, связанных с Корчным, Фишером и т.д. РЕЗЮМЕ: жаль потраченных денег и времени .': '???',\n",
       " 'Шла на мьюзикл в предвкушении чего-то прекрасного.. столько хвалебных отзывов. Но увы, в первом акте чуть не уснула, очень скучный сюжет с темных тонах( второй акт повеселее и события разворачивались быстро. Голоса актёров прекрасны, за это 5 баллов и оркестр на верху - отличная задумка. Но сам сюжет очень скучный, на 3 с минусом. Декорации очень скромные. Этакий минимализм во всем. Может я сравниваю с мюзиклами в Театре оперетты, там они очень динамичные, яркие, с красивыми декорациями и костюмами. Здесь вы такого не увидите..': '???',\n",
       " 'Честно говоря, мюзикл не впечатлил абсолютно. Вроде бы все элементы жанра на месте, актёры неплохи, музыка написана грамотно, но... не цепляет. Причём такого же мнения были мои знакомые, и сидевшие рядом зрители, обменивавшиеся впечатлениями. Кроме того, хотелось бы отметить, что звуковик где-то четверть спектакля не мог нормально настроить звук, и голоса актёров то визжали, то не были слышны за музыкой. За время, которое спектакль ставится уже можно было отладить все процессы.': '???'}"
      ]
     },
     "execution_count": 23,
     "metadata": {},
     "output_type": "execute_result"
    }
   ],
   "source": [
    "dict_for_three = {}\n",
    "\n",
    "for i in range(1, 21):\n",
    "    collect_q_reviews(i, dict_for_three)\n",
    "\n",
    "dict_for_three"
   ]
  },
  {
   "cell_type": "markdown",
   "metadata": {},
   "source": [
    "Они спорные. В одном отзыве и положительная часть '*всё на высшем уровне*', и отрицательная '*Разочарована!*'. Чтобы улучшить качество модели я предлагаю убрать эти отзывы из выборки вообще. Сейчас будет большой код, повторение пройденного, но лучше!"
   ]
  },
  {
   "cell_type": "code",
   "execution_count": 24,
   "metadata": {},
   "outputs": [],
   "source": [
    "def upgrade_collect_reviews(page_number, dictionary):\n",
    "    # скачиваем\n",
    "    url = f'https://teatrow.ru/msk/moskovskij-dvorec-molodezhi/page,1,{page_number},16857-shahmaty.html'\n",
    "    response = requests.get(url)\n",
    "    html_content = response.content\n",
    "    soup = BeautifulSoup(html_content, 'html.parser')\n",
    "    \n",
    "    # находим все отзывы на странице и обрабатываем\n",
    "    for review in soup.find_all('div', {'class': 'element-item 1'}):\n",
    "        review_text = review.find('div', {'class': 'text mytext'}).text\n",
    "        review_rating = int(review.find('meta', {'itemprop': 'ratingValue'})['content'])\n",
    "        if review_rating == 4 or review_rating == 5:\n",
    "            dictionary[review_text] = 'Positive'\n",
    "        if review_rating == 1 or review_rating == 2:\n",
    "            dictionary[review_text] = 'Negative'\n",
    "      \n",
    "    return dictionary"
   ]
  },
  {
   "cell_type": "code",
   "execution_count": 25,
   "metadata": {},
   "outputs": [],
   "source": [
    "upgrade_dictionary_of_reviews = {}\n",
    "for i in range(1, 101):\n",
    "    upgrade_collect_reviews(i, upgrade_dictionary_of_reviews)"
   ]
  },
  {
   "cell_type": "code",
   "execution_count": 26,
   "metadata": {},
   "outputs": [
    {
     "data": {
      "text/plain": [
       "Counter({'Negative': 83, 'Positive': 847})"
      ]
     },
     "execution_count": 26,
     "metadata": {},
     "output_type": "execute_result"
    }
   ],
   "source": [
    "Counter(upgrade_dictionary_of_reviews.values())"
   ]
  },
  {
   "cell_type": "code",
   "execution_count": 27,
   "metadata": {},
   "outputs": [],
   "source": [
    "s = sorted(upgrade_dictionary_of_reviews.items(), key=lambda item: item[1])\n",
    "s = s[:166]"
   ]
  },
  {
   "cell_type": "code",
   "execution_count": 28,
   "metadata": {},
   "outputs": [],
   "source": [
    "def save(info):\n",
    "    with open('reviews_train.csv','w', encoding='UTF-8') as csvfile:\n",
    "        writer = csv.writer(csvfile, delimiter=',')\n",
    "        writer.writerow(['Text','Sentiment'])\n",
    "\n",
    "        for i in range(0,166):\n",
    "            writer.writerow([info[i][0], info[i][1]])\n",
    "\n",
    "save(s)"
   ]
  },
  {
   "cell_type": "code",
   "execution_count": 29,
   "metadata": {},
   "outputs": [],
   "source": [
    "preparation('reviews_train.csv')"
   ]
  },
  {
   "cell_type": "code",
   "execution_count": 30,
   "metadata": {},
   "outputs": [],
   "source": [
    "upgrade_data = pd.read_csv('reviews_train.csv',sep=',', encoding='UTF-8')\n",
    "\n",
    "upgrade_text_positive = upgrade_data[upgrade_data['Sentiment'] == 'Positive']['Text']\n",
    "upgrade_text_negative = upgrade_data[upgrade_data['Sentiment'] == 'Negative']['Text']"
   ]
  },
  {
   "cell_type": "code",
   "execution_count": 31,
   "metadata": {},
   "outputs": [],
   "source": [
    "us_pos = set_of_words(upgrade_text_positive)\n",
    "us_neg = set_of_words(upgrade_text_negative)"
   ]
  },
  {
   "cell_type": "code",
   "execution_count": 32,
   "metadata": {},
   "outputs": [],
   "source": [
    "upgrade_freq_lists = {}\n",
    "upgrade_freq_lists['Positive'] = dict_for_set(upgrade_text_positive)\n",
    "upgrade_freq_lists['Negative'] = dict_for_set(upgrade_text_negative)"
   ]
  },
  {
   "cell_type": "code",
   "execution_count": 33,
   "metadata": {},
   "outputs": [
    {
     "name": "stdout",
     "output_type": "stream",
     "text": [
      "Positive\n",
      "Negative\n",
      "Positive\n",
      "Positive\n",
      "Positive\n",
      "Positive\n",
      "Negative\n",
      "Positive\n",
      "Positive\n",
      "Positive\n"
     ]
    }
   ],
   "source": [
    "for line, sent in test_dictionary.items():\n",
    "    print(simple_sent_detect(upgrade_freq_lists, line)[0][0])"
   ]
  },
  {
   "cell_type": "code",
   "execution_count": 34,
   "metadata": {},
   "outputs": [
    {
     "name": "stdout",
     "output_type": "stream",
     "text": [
      "RESULTS:\n",
      "Accuracy: 0.8000\n"
     ]
    }
   ],
   "source": [
    "test_simple_sent_detect(upgrade_freq_lists, test_dictionary)"
   ]
  },
  {
   "cell_type": "markdown",
   "metadata": {},
   "source": [
    "Вау! Теперь наша точность 0.8 и это очень круто! Я подняла точность на 0.2, а это очень крутой результат"
   ]
  },
  {
   "cell_type": "markdown",
   "metadata": {},
   "source": [
    "### Улучшение улучшений: TF-IDF\n",
    "\n",
    "Я предлагаю на этапе формирования 2х множеств слов делать это через tf-idf. Тогда каждому слову присвоится его вес, который должен помочь при определении тональности и улучшить результаты."
   ]
  },
  {
   "cell_type": "code",
   "execution_count": 35,
   "metadata": {},
   "outputs": [],
   "source": [
    "data_train = pd.read_csv('reviews_train.csv', sep=',', encoding='UTF-8')\n",
    "list_of_reviews = list(data_train['Text'])"
   ]
  },
  {
   "cell_type": "code",
   "execution_count": 36,
   "metadata": {},
   "outputs": [
    {
     "name": "stdout",
     "output_type": "stream",
     "text": [
      "error\n",
      "error\n"
     ]
    }
   ],
   "source": [
    "from sklearn.feature_extraction.text import TfidfVectorizer\n",
    "from nltk.tokenize import wordpunct_tokenize\n",
    "\n",
    "tfidf = TfidfVectorizer(\n",
    "    analyzer = 'word',\n",
    "    stop_words = stopwords.words('russian')\n",
    ")\n",
    "\n",
    "review_tfidf = tfidf.fit_transform(list_of_reviews)\n",
    "\n",
    "Tfidf_data = pd.DataFrame(review_tfidf.toarray(), columns=tfidf.get_feature_names_out())\n",
    "\n",
    "dict_neg = {}\n",
    "try:\n",
    "    for i in upgrade_freq_lists['Negative']:\n",
    "        dict_neg[i] = Tfidf_data[i].sum()\n",
    "except KeyError:\n",
    "    print('error')\n",
    "    \n",
    "dict_pos = {}\n",
    "try:\n",
    "    for i in upgrade_freq_lists['Positive']:\n",
    "        dict_pos[i] = Tfidf_data[i].sum()\n",
    "except KeyError:\n",
    "    print('error')\n",
    "\n",
    "dict_tfidf = {}\n",
    "dict_tfidf['Negative'] = dict_neg\n",
    "dict_tfidf['Positive'] = dict_pos"
   ]
  },
  {
   "cell_type": "code",
   "execution_count": 37,
   "metadata": {},
   "outputs": [],
   "source": [
    "def tfidf_sent_detect(dict_tfidf, text):\n",
    "    counts = Counter()\n",
    "    for sent, weight in dict_tfidf.items():\n",
    "        weight = Counter(weight)\n",
    "        for word in nltk.word_tokenize(text):\n",
    "            counts[sent] += int(weight[word] > 0)\n",
    "    return counts.most_common()"
   ]
  },
  {
   "cell_type": "code",
   "execution_count": 38,
   "metadata": {},
   "outputs": [
    {
     "name": "stdout",
     "output_type": "stream",
     "text": [
      "Positive\n",
      "Negative\n",
      "Positive\n",
      "Positive\n",
      "Positive\n",
      "Positive\n",
      "Negative\n",
      "Positive\n",
      "Positive\n",
      "Positive\n"
     ]
    }
   ],
   "source": [
    "for line, sent in test_dictionary.items():\n",
    "    print(tfidf_sent_detect(dict_tfidf, line)[0][0])"
   ]
  },
  {
   "cell_type": "code",
   "execution_count": 39,
   "metadata": {},
   "outputs": [],
   "source": [
    "def test_tfidf_sent_detect(dict_tfidf, dictionary):\n",
    "    results = []  # сюда будем писать результаты\n",
    "    gold = []     # сюда будем писать исходную тональность\n",
    "    for line, sent in test_dictionary.items():\n",
    "        predicted_lang = tfidf_sent_detect(dict_tfidf, line)[0][0]\n",
    "        results.append(predicted_lang)\n",
    "        gold.append(sent)\n",
    "    print(\"RESULTS:\")\n",
    "    print(\"Accuracy: %.4f\" % accuracy_score(results, gold))"
   ]
  },
  {
   "cell_type": "code",
   "execution_count": 40,
   "metadata": {},
   "outputs": [
    {
     "name": "stdout",
     "output_type": "stream",
     "text": [
      "RESULTS:\n",
      "Accuracy: 0.8000\n"
     ]
    }
   ],
   "source": [
    "test_tfidf_sent_detect(dict_tfidf, test_dictionary)"
   ]
  },
  {
   "cell_type": "markdown",
   "metadata": {},
   "source": [
    "Почему он не улучшил? Я могу предположить, что это произошло из-за того, что я хорошо фильтровала учебную выборку, убирала редко встречающеся слова из freqlist и не брала спорные отзывы. Радует только одно, этот метод не ухудшил точность, а значит все хорошо и модель круто работает)\n"
   ]
  }
 ],
 "metadata": {
  "kernelspec": {
   "display_name": "Python 3",
   "language": "python",
   "name": "python3"
  },
  "language_info": {
   "codemirror_mode": {
    "name": "ipython",
    "version": 3
   },
   "file_extension": ".py",
   "mimetype": "text/x-python",
   "name": "python",
   "nbconvert_exporter": "python",
   "pygments_lexer": "ipython3",
   "version": "3.10.1"
  },
  "orig_nbformat": 4
 },
 "nbformat": 4,
 "nbformat_minor": 2
}
